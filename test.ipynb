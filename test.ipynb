{
 "cells": [
  {
   "cell_type": "code",
   "execution_count": 2,
   "metadata": {},
   "outputs": [
    {
     "name": "stderr",
     "output_type": "stream",
     "text": [
      "Cannot initialize model with low cpu memory usage because `accelerate` was not found in the environment. Defaulting to `low_cpu_mem_usage=False`. It is strongly recommended to install `accelerate` for faster and less memory-intense model loading. You can do so with: \n",
      "```\n",
      "pip install accelerate\n",
      "```\n",
      ".\n",
      "Couldn't connect to the Hub: (ProtocolError('Connection aborted.', RemoteDisconnected('Remote end closed connection without response')), '(Request ID: 71b797e9-deeb-48a8-a1b0-d8855e0d04c9)').\n",
      "Will try to load from local cache.\n",
      "Loading pipeline components...:   0%|          | 0/5 [00:00<?, ?it/s]An error occurred while trying to fetch /home/shrey/.cache/huggingface/hub/models--dream-textures--texture-diffusion/snapshots/981e240aab8807bbf8b04afdb7f5c3f893c22e43/vae: Error no file named diffusion_pytorch_model.safetensors found in directory /home/shrey/.cache/huggingface/hub/models--dream-textures--texture-diffusion/snapshots/981e240aab8807bbf8b04afdb7f5c3f893c22e43/vae.\n",
      "Defaulting to unsafe serialization. Pass `allow_pickle=False` to raise an error instead.\n",
      "Loading pipeline components...:  60%|██████    | 3/5 [00:01<00:01,  1.91it/s]An error occurred while trying to fetch /home/shrey/.cache/huggingface/hub/models--dream-textures--texture-diffusion/snapshots/981e240aab8807bbf8b04afdb7f5c3f893c22e43/unet: Error no file named diffusion_pytorch_model.safetensors found in directory /home/shrey/.cache/huggingface/hub/models--dream-textures--texture-diffusion/snapshots/981e240aab8807bbf8b04afdb7f5c3f893c22e43/unet.\n",
      "Defaulting to unsafe serialization. Pass `allow_pickle=False` to raise an error instead.\n",
      "Loading pipeline components...: 100%|██████████| 5/5 [00:11<00:00,  2.32s/it]\n",
      "100%|██████████| 50/50 [00:02<00:00, 23.39it/s]\n"
     ]
    }
   ],
   "source": [
    "from diffusers import StableDiffusionPipeline\n",
    "import torch\n",
    "\n",
    "model_id = \"dream-textures/texture-diffusion\"\n",
    "\n",
    "pipe = StableDiffusionPipeline.from_pretrained(model_id, torch_dtype=torch.float16)\n",
    "pipe = pipe.to(\"cuda\")\n",
    "\n",
    "prompt = \"Generate a bright indoor ceiling texture with a grid of rectangular white tiles and bright LED panel lighting evenly spaced across the surface. The lights should be bright, creating a clean and modern office-like atmosphere. The ceiling tiles should be arranged in a uniform pattern, and the texture should reflect a well-lit indoor setting with a neutral color palette.\"\n",
    "image = pipe(prompt).images[0]  \n",
    "    \n",
    "image.save(\"bricks.png\")\n"
   ]
  }
 ],
 "metadata": {
  "kernelspec": {
   "display_name": ".venv",
   "language": "python",
   "name": "python3"
  },
  "language_info": {
   "codemirror_mode": {
    "name": "ipython",
    "version": 3
   },
   "file_extension": ".py",
   "mimetype": "text/x-python",
   "name": "python",
   "nbconvert_exporter": "python",
   "pygments_lexer": "ipython3",
   "version": "3.10.12"
  }
 },
 "nbformat": 4,
 "nbformat_minor": 2
}
